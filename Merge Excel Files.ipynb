{
 "cells": [
  {
   "cell_type": "code",
   "execution_count": 44,
   "metadata": {},
   "outputs": [],
   "source": [
    "import pandas as pd\n",
    "import os\n",
    "\n",
    "\n",
    "def ExcelMerge():\n",
    "    ''''EXCEL APPEND'''\n",
    "    dfs=[]\n",
    "    folder = str(input('Put your folder path that contain excel files'))\n",
    "    for x in os.listdir(folder):\n",
    "        if x.endswith('xlsx'):\n",
    "            read = os.path.join(folder,x)\n",
    "            files = pd.read_excel(read)\n",
    "            dfs.append(files)\n",
    "            excel = pd.concat(dfs)\n",
    "            \n",
    "    return(excel)"
   ]
  }
 ],
 "metadata": {
  "kernelspec": {
   "display_name": "Python 3",
   "language": "python",
   "name": "python3"
  },
  "language_info": {
   "codemirror_mode": {
    "name": "ipython",
    "version": 3
   },
   "file_extension": ".py",
   "mimetype": "text/x-python",
   "name": "python",
   "nbconvert_exporter": "python",
   "pygments_lexer": "ipython3",
   "version": "3.10.11"
  }
 },
 "nbformat": 4,
 "nbformat_minor": 2
}
